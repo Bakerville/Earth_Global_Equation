{
 "cells": [
  {
   "cell_type": "markdown",
   "id": "e91aa0b0",
   "metadata": {},
   "source": [
    "# ĐỒ ÁN NHÓM: MÔ HÌNH THỜI TIẾT (CLIMATE MODEL)"
   ]
  },
  {
   "cell_type": "markdown",
   "id": "721ef7a2",
   "metadata": {},
   "source": [
    "## Thông tin nhóm:"
   ]
  },
  {
   "cell_type": "markdown",
   "id": "2df30e7b",
   "metadata": {},
   "source": [
    "| Họ và tên      | MSSV |\n",
    "| ----------- | ----------- |\n",
    "| Phan Minh Triết      | 19120039 |\n",
    "| Trần Đức Thuỵ   | 19120138 |"
   ]
  },
  {
   "cell_type": "markdown",
   "id": "90fca65e",
   "metadata": {},
   "source": [
    "## Import các thư viện cần thiết"
   ]
  },
  {
   "cell_type": "code",
   "execution_count": 47,
   "id": "18cc0aa9",
   "metadata": {
    "ExecuteTime": {
     "end_time": "2022-05-15T17:56:57.715617Z",
     "start_time": "2022-05-15T17:56:54.868893Z"
    }
   },
   "outputs": [],
   "source": [
    "import pandas as pd\n",
    "import numpy as np\n",
    "import seaborn as sns\n",
    "import matplotlib.pyplot as plt\n",
    "import plotly.express as px\n",
    "from sklearn.metrics import mean_squared_error\n",
    "from sklearn.preprocessing import PolynomialFeatures\n",
    "from sklearn.linear_model import LinearRegression\n",
    "sns.set()"
   ]
  },
  {
   "cell_type": "markdown",
   "id": "341df58d",
   "metadata": {},
   "source": [
    "## 1. Xây dựng mô hình thời tiết cơ bản:"
   ]
  },
  {
   "cell_type": "markdown",
   "id": "5a3c6291",
   "metadata": {},
   "source": [
    "### Đọc dữ liệu từ file data.txt:"
   ]
  },
  {
   "cell_type": "code",
   "execution_count": 48,
   "id": "0e21c672",
   "metadata": {
    "ExecuteTime": {
     "end_time": "2022-05-15T17:56:57.793410Z",
     "start_time": "2022-05-15T17:56:57.719607Z"
    }
   },
   "outputs": [
    {
     "data": {
      "text/html": [
       "<div>\n",
       "<style scoped>\n",
       "    .dataframe tbody tr th:only-of-type {\n",
       "        vertical-align: middle;\n",
       "    }\n",
       "\n",
       "    .dataframe tbody tr th {\n",
       "        vertical-align: top;\n",
       "    }\n",
       "\n",
       "    .dataframe thead th {\n",
       "        text-align: right;\n",
       "    }\n",
       "</style>\n",
       "<table border=\"1\" class=\"dataframe\">\n",
       "  <thead>\n",
       "    <tr style=\"text-align: right;\">\n",
       "      <th></th>\n",
       "      <th>Year</th>\n",
       "      <th>No_Smoothing</th>\n",
       "      <th>Lowess</th>\n",
       "    </tr>\n",
       "  </thead>\n",
       "  <tbody>\n",
       "    <tr>\n",
       "      <th>0</th>\n",
       "      <td>1880</td>\n",
       "      <td>-0.16</td>\n",
       "      <td>-0.09</td>\n",
       "    </tr>\n",
       "    <tr>\n",
       "      <th>1</th>\n",
       "      <td>1881</td>\n",
       "      <td>-0.08</td>\n",
       "      <td>-0.12</td>\n",
       "    </tr>\n",
       "    <tr>\n",
       "      <th>2</th>\n",
       "      <td>1882</td>\n",
       "      <td>-0.10</td>\n",
       "      <td>-0.16</td>\n",
       "    </tr>\n",
       "    <tr>\n",
       "      <th>3</th>\n",
       "      <td>1883</td>\n",
       "      <td>-0.17</td>\n",
       "      <td>-0.20</td>\n",
       "    </tr>\n",
       "    <tr>\n",
       "      <th>4</th>\n",
       "      <td>1884</td>\n",
       "      <td>-0.28</td>\n",
       "      <td>-0.23</td>\n",
       "    </tr>\n",
       "    <tr>\n",
       "      <th>...</th>\n",
       "      <td>...</td>\n",
       "      <td>...</td>\n",
       "      <td>...</td>\n",
       "    </tr>\n",
       "    <tr>\n",
       "      <th>137</th>\n",
       "      <td>2017</td>\n",
       "      <td>0.92</td>\n",
       "      <td>0.91</td>\n",
       "    </tr>\n",
       "    <tr>\n",
       "      <th>138</th>\n",
       "      <td>2018</td>\n",
       "      <td>0.85</td>\n",
       "      <td>0.92</td>\n",
       "    </tr>\n",
       "    <tr>\n",
       "      <th>139</th>\n",
       "      <td>2019</td>\n",
       "      <td>0.98</td>\n",
       "      <td>0.93</td>\n",
       "    </tr>\n",
       "    <tr>\n",
       "      <th>140</th>\n",
       "      <td>2020</td>\n",
       "      <td>1.02</td>\n",
       "      <td>0.94</td>\n",
       "    </tr>\n",
       "    <tr>\n",
       "      <th>141</th>\n",
       "      <td>2021</td>\n",
       "      <td>0.85</td>\n",
       "      <td>0.94</td>\n",
       "    </tr>\n",
       "  </tbody>\n",
       "</table>\n",
       "<p>142 rows × 3 columns</p>\n",
       "</div>"
      ],
      "text/plain": [
       "     Year  No_Smoothing  Lowess\n",
       "0    1880         -0.16   -0.09\n",
       "1    1881         -0.08   -0.12\n",
       "2    1882         -0.10   -0.16\n",
       "3    1883         -0.17   -0.20\n",
       "4    1884         -0.28   -0.23\n",
       "..    ...           ...     ...\n",
       "137  2017          0.92    0.91\n",
       "138  2018          0.85    0.92\n",
       "139  2019          0.98    0.93\n",
       "140  2020          1.02    0.94\n",
       "141  2021          0.85    0.94\n",
       "\n",
       "[142 rows x 3 columns]"
      ]
     },
     "execution_count": 48,
     "metadata": {},
     "output_type": "execute_result"
    }
   ],
   "source": [
    "df = pd.read_csv(\"data.txt\", sep=\"     \", engine=\"python\")\n",
    "df"
   ]
  },
  {
   "cell_type": "markdown",
   "id": "d4f5536e",
   "metadata": {},
   "source": [
    "### Kiểm tra kích thước dữ liệu:\n",
    "Dữ liệu có **142 dòng** và **3 thuộc tính**"
   ]
  },
  {
   "cell_type": "code",
   "execution_count": 49,
   "id": "6019db71",
   "metadata": {
    "ExecuteTime": {
     "end_time": "2022-05-15T17:56:57.872225Z",
     "start_time": "2022-05-15T17:56:57.798396Z"
    }
   },
   "outputs": [
    {
     "data": {
      "text/plain": [
       "(142, 3)"
      ]
     },
     "execution_count": 49,
     "metadata": {},
     "output_type": "execute_result"
    }
   ],
   "source": [
    "df.shape"
   ]
  },
  {
   "cell_type": "markdown",
   "id": "b4f49610",
   "metadata": {},
   "source": [
    "#### Thông tin các cột dữ liệu:\n",
    "* `Year`: năm\n",
    "* `No_smoothing`: nhiệt độ trung bình của trái đất trong năm chưa được làm trơn\n",
    "* `Lowess`: số liệu nhiệt độ sau khi đã làm trơn"
   ]
  },
  {
   "cell_type": "markdown",
   "id": "9f3a7526",
   "metadata": {},
   "source": [
    "### Kiểm tra số lượng phần tử Nan ở các cột"
   ]
  },
  {
   "cell_type": "code",
   "execution_count": 50,
   "id": "e9054b6c",
   "metadata": {
    "ExecuteTime": {
     "end_time": "2022-05-15T17:56:57.996957Z",
     "start_time": "2022-05-15T17:56:57.876215Z"
    },
    "scrolled": false
   },
   "outputs": [
    {
     "data": {
      "text/plain": [
       "Year            0\n",
       "No_Smoothing    0\n",
       "Lowess          0\n",
       "dtype: int64"
      ]
     },
     "execution_count": 50,
     "metadata": {},
     "output_type": "execute_result"
    }
   ],
   "source": [
    "df.isna().sum()"
   ]
  },
  {
   "cell_type": "markdown",
   "id": "bbbf85e6",
   "metadata": {},
   "source": [
    "* Không tồn tại dữ liệu nan ở bất kì cột nào"
   ]
  },
  {
   "cell_type": "markdown",
   "id": "6bc65b41",
   "metadata": {},
   "source": [
    "### Kiểm tra các dòng có trùng lặp hay không?"
   ]
  },
  {
   "cell_type": "code",
   "execution_count": 51,
   "id": "7b86e988",
   "metadata": {
    "ExecuteTime": {
     "end_time": "2022-05-15T17:56:58.091195Z",
     "start_time": "2022-05-15T17:56:58.000945Z"
    }
   },
   "outputs": [
    {
     "data": {
      "text/plain": [
       "0"
      ]
     },
     "execution_count": 51,
     "metadata": {},
     "output_type": "execute_result"
    }
   ],
   "source": [
    "df.duplicated().sum()"
   ]
  },
  {
   "cell_type": "markdown",
   "id": "dbde05ee",
   "metadata": {},
   "source": [
    "Ta thấy không có dữ liệu trùng."
   ]
  },
  {
   "cell_type": "markdown",
   "id": "1c8e2a8c",
   "metadata": {},
   "source": [
    "### Kiểm tra kiểu dữ liệu\n",
    "* `Year`: số nguyên\n",
    "* `No_Smooth và Lowess`: số thực\n",
    "* `Kiểu dữ liệu` phù hợp"
   ]
  },
  {
   "cell_type": "code",
   "execution_count": 52,
   "id": "e210510e",
   "metadata": {
    "ExecuteTime": {
     "end_time": "2022-05-15T17:56:58.184815Z",
     "start_time": "2022-05-15T17:56:58.094186Z"
    }
   },
   "outputs": [
    {
     "data": {
      "text/plain": [
       "Year              int64\n",
       "No_Smoothing    float64\n",
       "Lowess          float64\n",
       "dtype: object"
      ]
     },
     "execution_count": 52,
     "metadata": {},
     "output_type": "execute_result"
    }
   ],
   "source": [
    "df.dtypes"
   ]
  },
  {
   "cell_type": "markdown",
   "id": "409de8a3",
   "metadata": {},
   "source": [
    "### Trực quan dữ liệu"
   ]
  },
  {
   "cell_type": "code",
   "execution_count": 53,
   "id": "000fbafa",
   "metadata": {
    "ExecuteTime": {
     "end_time": "2022-05-15T17:56:59.397248Z",
     "start_time": "2022-05-15T17:56:58.187808Z"
    },
    "scrolled": false
   },
   "outputs": [
    {
     "data": {
      "application/vnd.plotly.v1+json": {
       "config": {
        "plotlyServerURL": "https://plot.ly"
       },
       "data": [
        {
         "hovertemplate": "variable=No_Smoothing<br>Year=%{x}<br>value=%{y}<extra></extra>",
         "legendgroup": "No_Smoothing",
         "line": {
          "color": "#636efa",
          "dash": "solid"
         },
         "marker": {
          "symbol": "circle"
         },
         "mode": "lines",
         "name": "No_Smoothing",
         "orientation": "v",
         "showlegend": true,
         "type": "scatter",
         "x": [
          1880,
          1881,
          1882,
          1883,
          1884,
          1885,
          1886,
          1887,
          1888,
          1889,
          1890,
          1891,
          1892,
          1893,
          1894,
          1895,
          1896,
          1897,
          1898,
          1899,
          1900,
          1901,
          1902,
          1903,
          1904,
          1905,
          1906,
          1907,
          1908,
          1909,
          1910,
          1911,
          1912,
          1913,
          1914,
          1915,
          1916,
          1917,
          1918,
          1919,
          1920,
          1921,
          1922,
          1923,
          1924,
          1925,
          1926,
          1927,
          1928,
          1929,
          1930,
          1931,
          1932,
          1933,
          1934,
          1935,
          1936,
          1937,
          1938,
          1939,
          1940,
          1941,
          1942,
          1943,
          1944,
          1945,
          1946,
          1947,
          1948,
          1949,
          1950,
          1951,
          1952,
          1953,
          1954,
          1955,
          1956,
          1957,
          1958,
          1959,
          1960,
          1961,
          1962,
          1963,
          1964,
          1965,
          1966,
          1967,
          1968,
          1969,
          1970,
          1971,
          1972,
          1973,
          1974,
          1975,
          1976,
          1977,
          1978,
          1979,
          1980,
          1981,
          1982,
          1983,
          1984,
          1985,
          1986,
          1987,
          1988,
          1989,
          1990,
          1991,
          1992,
          1993,
          1994,
          1995,
          1996,
          1997,
          1998,
          1999,
          2000,
          2001,
          2002,
          2003,
          2004,
          2005,
          2006,
          2007,
          2008,
          2009,
          2010,
          2011,
          2012,
          2013,
          2014,
          2015,
          2016,
          2017,
          2018,
          2019,
          2020,
          2021
         ],
         "xaxis": "x",
         "y": [
          -0.16,
          -0.08,
          -0.1,
          -0.17,
          -0.28,
          -0.33,
          -0.31,
          -0.36,
          -0.17,
          -0.1,
          -0.35,
          -0.22,
          -0.27,
          -0.31,
          -0.32,
          -0.23,
          -0.11,
          -0.11,
          -0.27,
          -0.18,
          -0.09,
          -0.16,
          -0.28,
          -0.37,
          -0.47,
          -0.26,
          -0.22,
          -0.39,
          -0.43,
          -0.48,
          -0.43,
          -0.44,
          -0.36,
          -0.34,
          -0.15,
          -0.14,
          -0.36,
          -0.46,
          -0.3,
          -0.28,
          -0.27,
          -0.19,
          -0.29,
          -0.27,
          -0.27,
          -0.22,
          -0.11,
          -0.22,
          -0.2,
          -0.36,
          -0.16,
          -0.09,
          -0.16,
          -0.29,
          -0.12,
          -0.2,
          -0.15,
          -0.03,
          0,
          -0.02,
          0.13,
          0.19,
          0.07,
          0.09,
          0.2,
          0.09,
          -0.07,
          -0.03,
          -0.11,
          -0.11,
          -0.17,
          -0.07,
          0.01,
          0.08,
          -0.13,
          -0.14,
          -0.19,
          0.05,
          0.06,
          0.03,
          -0.03,
          0.06,
          0.03,
          0.05,
          -0.2,
          -0.11,
          -0.06,
          -0.02,
          -0.08,
          0.05,
          0.03,
          -0.08,
          0.01,
          0.16,
          -0.07,
          -0.01,
          -0.1,
          0.18,
          0.07,
          0.16,
          0.26,
          0.32,
          0.14,
          0.31,
          0.16,
          0.12,
          0.18,
          0.32,
          0.39,
          0.27,
          0.45,
          0.41,
          0.22,
          0.23,
          0.32,
          0.45,
          0.33,
          0.46,
          0.61,
          0.38,
          0.39,
          0.54,
          0.63,
          0.62,
          0.53,
          0.68,
          0.64,
          0.66,
          0.54,
          0.65,
          0.72,
          0.61,
          0.65,
          0.68,
          0.75,
          0.9,
          1.02,
          0.92,
          0.85,
          0.98,
          1.02,
          0.85
         ],
         "yaxis": "y"
        },
        {
         "hovertemplate": "variable=Lowess<br>Year=%{x}<br>value=%{y}<extra></extra>",
         "legendgroup": "Lowess",
         "line": {
          "color": "#EF553B",
          "dash": "solid"
         },
         "marker": {
          "symbol": "circle"
         },
         "mode": "lines",
         "name": "Lowess",
         "orientation": "v",
         "showlegend": true,
         "type": "scatter",
         "x": [
          1880,
          1881,
          1882,
          1883,
          1884,
          1885,
          1886,
          1887,
          1888,
          1889,
          1890,
          1891,
          1892,
          1893,
          1894,
          1895,
          1896,
          1897,
          1898,
          1899,
          1900,
          1901,
          1902,
          1903,
          1904,
          1905,
          1906,
          1907,
          1908,
          1909,
          1910,
          1911,
          1912,
          1913,
          1914,
          1915,
          1916,
          1917,
          1918,
          1919,
          1920,
          1921,
          1922,
          1923,
          1924,
          1925,
          1926,
          1927,
          1928,
          1929,
          1930,
          1931,
          1932,
          1933,
          1934,
          1935,
          1936,
          1937,
          1938,
          1939,
          1940,
          1941,
          1942,
          1943,
          1944,
          1945,
          1946,
          1947,
          1948,
          1949,
          1950,
          1951,
          1952,
          1953,
          1954,
          1955,
          1956,
          1957,
          1958,
          1959,
          1960,
          1961,
          1962,
          1963,
          1964,
          1965,
          1966,
          1967,
          1968,
          1969,
          1970,
          1971,
          1972,
          1973,
          1974,
          1975,
          1976,
          1977,
          1978,
          1979,
          1980,
          1981,
          1982,
          1983,
          1984,
          1985,
          1986,
          1987,
          1988,
          1989,
          1990,
          1991,
          1992,
          1993,
          1994,
          1995,
          1996,
          1997,
          1998,
          1999,
          2000,
          2001,
          2002,
          2003,
          2004,
          2005,
          2006,
          2007,
          2008,
          2009,
          2010,
          2011,
          2012,
          2013,
          2014,
          2015,
          2016,
          2017,
          2018,
          2019,
          2020,
          2021
         ],
         "xaxis": "x",
         "y": [
          -0.09,
          -0.12,
          -0.16,
          -0.2,
          -0.23,
          -0.26,
          -0.27,
          -0.27,
          -0.26,
          -0.25,
          -0.25,
          -0.26,
          -0.27,
          -0.26,
          -0.24,
          -0.22,
          -0.21,
          -0.19,
          -0.17,
          -0.18,
          -0.2,
          -0.24,
          -0.26,
          -0.28,
          -0.31,
          -0.34,
          -0.36,
          -0.37,
          -0.39,
          -0.41,
          -0.41,
          -0.39,
          -0.35,
          -0.32,
          -0.31,
          -0.3,
          -0.3,
          -0.3,
          -0.3,
          -0.3,
          -0.28,
          -0.27,
          -0.26,
          -0.24,
          -0.23,
          -0.22,
          -0.22,
          -0.21,
          -0.2,
          -0.19,
          -0.19,
          -0.19,
          -0.18,
          -0.17,
          -0.16,
          -0.14,
          -0.11,
          -0.06,
          -0.01,
          0.03,
          0.06,
          0.09,
          0.11,
          0.1,
          0.07,
          0.04,
          0,
          -0.04,
          -0.07,
          -0.08,
          -0.08,
          -0.07,
          -0.07,
          -0.07,
          -0.06,
          -0.06,
          -0.05,
          -0.04,
          -0.01,
          0.01,
          0.03,
          0.01,
          -0.01,
          -0.03,
          -0.04,
          -0.05,
          -0.06,
          -0.05,
          -0.03,
          -0.02,
          0,
          0,
          0,
          0,
          0.01,
          0.02,
          0.04,
          0.07,
          0.12,
          0.16,
          0.2,
          0.21,
          0.22,
          0.21,
          0.21,
          0.22,
          0.24,
          0.27,
          0.31,
          0.33,
          0.33,
          0.33,
          0.33,
          0.33,
          0.34,
          0.37,
          0.4,
          0.42,
          0.44,
          0.47,
          0.5,
          0.52,
          0.55,
          0.58,
          0.61,
          0.62,
          0.62,
          0.63,
          0.64,
          0.64,
          0.65,
          0.66,
          0.7,
          0.74,
          0.79,
          0.83,
          0.88,
          0.91,
          0.92,
          0.93,
          0.94,
          0.94
         ],
         "yaxis": "y"
        }
       ],
       "layout": {
        "legend": {
         "title": {
          "text": "variable"
         },
         "tracegroupgap": 0
        },
        "margin": {
         "t": 60
        },
        "template": {
         "data": {
          "bar": [
           {
            "error_x": {
             "color": "#2a3f5f"
            },
            "error_y": {
             "color": "#2a3f5f"
            },
            "marker": {
             "line": {
              "color": "#E5ECF6",
              "width": 0.5
             },
             "pattern": {
              "fillmode": "overlay",
              "size": 10,
              "solidity": 0.2
             }
            },
            "type": "bar"
           }
          ],
          "barpolar": [
           {
            "marker": {
             "line": {
              "color": "#E5ECF6",
              "width": 0.5
             },
             "pattern": {
              "fillmode": "overlay",
              "size": 10,
              "solidity": 0.2
             }
            },
            "type": "barpolar"
           }
          ],
          "carpet": [
           {
            "aaxis": {
             "endlinecolor": "#2a3f5f",
             "gridcolor": "white",
             "linecolor": "white",
             "minorgridcolor": "white",
             "startlinecolor": "#2a3f5f"
            },
            "baxis": {
             "endlinecolor": "#2a3f5f",
             "gridcolor": "white",
             "linecolor": "white",
             "minorgridcolor": "white",
             "startlinecolor": "#2a3f5f"
            },
            "type": "carpet"
           }
          ],
          "choropleth": [
           {
            "colorbar": {
             "outlinewidth": 0,
             "ticks": ""
            },
            "type": "choropleth"
           }
          ],
          "contour": [
           {
            "colorbar": {
             "outlinewidth": 0,
             "ticks": ""
            },
            "colorscale": [
             [
              0,
              "#0d0887"
             ],
             [
              0.1111111111111111,
              "#46039f"
             ],
             [
              0.2222222222222222,
              "#7201a8"
             ],
             [
              0.3333333333333333,
              "#9c179e"
             ],
             [
              0.4444444444444444,
              "#bd3786"
             ],
             [
              0.5555555555555556,
              "#d8576b"
             ],
             [
              0.6666666666666666,
              "#ed7953"
             ],
             [
              0.7777777777777778,
              "#fb9f3a"
             ],
             [
              0.8888888888888888,
              "#fdca26"
             ],
             [
              1,
              "#f0f921"
             ]
            ],
            "type": "contour"
           }
          ],
          "contourcarpet": [
           {
            "colorbar": {
             "outlinewidth": 0,
             "ticks": ""
            },
            "type": "contourcarpet"
           }
          ],
          "heatmap": [
           {
            "colorbar": {
             "outlinewidth": 0,
             "ticks": ""
            },
            "colorscale": [
             [
              0,
              "#0d0887"
             ],
             [
              0.1111111111111111,
              "#46039f"
             ],
             [
              0.2222222222222222,
              "#7201a8"
             ],
             [
              0.3333333333333333,
              "#9c179e"
             ],
             [
              0.4444444444444444,
              "#bd3786"
             ],
             [
              0.5555555555555556,
              "#d8576b"
             ],
             [
              0.6666666666666666,
              "#ed7953"
             ],
             [
              0.7777777777777778,
              "#fb9f3a"
             ],
             [
              0.8888888888888888,
              "#fdca26"
             ],
             [
              1,
              "#f0f921"
             ]
            ],
            "type": "heatmap"
           }
          ],
          "heatmapgl": [
           {
            "colorbar": {
             "outlinewidth": 0,
             "ticks": ""
            },
            "colorscale": [
             [
              0,
              "#0d0887"
             ],
             [
              0.1111111111111111,
              "#46039f"
             ],
             [
              0.2222222222222222,
              "#7201a8"
             ],
             [
              0.3333333333333333,
              "#9c179e"
             ],
             [
              0.4444444444444444,
              "#bd3786"
             ],
             [
              0.5555555555555556,
              "#d8576b"
             ],
             [
              0.6666666666666666,
              "#ed7953"
             ],
             [
              0.7777777777777778,
              "#fb9f3a"
             ],
             [
              0.8888888888888888,
              "#fdca26"
             ],
             [
              1,
              "#f0f921"
             ]
            ],
            "type": "heatmapgl"
           }
          ],
          "histogram": [
           {
            "marker": {
             "pattern": {
              "fillmode": "overlay",
              "size": 10,
              "solidity": 0.2
             }
            },
            "type": "histogram"
           }
          ],
          "histogram2d": [
           {
            "colorbar": {
             "outlinewidth": 0,
             "ticks": ""
            },
            "colorscale": [
             [
              0,
              "#0d0887"
             ],
             [
              0.1111111111111111,
              "#46039f"
             ],
             [
              0.2222222222222222,
              "#7201a8"
             ],
             [
              0.3333333333333333,
              "#9c179e"
             ],
             [
              0.4444444444444444,
              "#bd3786"
             ],
             [
              0.5555555555555556,
              "#d8576b"
             ],
             [
              0.6666666666666666,
              "#ed7953"
             ],
             [
              0.7777777777777778,
              "#fb9f3a"
             ],
             [
              0.8888888888888888,
              "#fdca26"
             ],
             [
              1,
              "#f0f921"
             ]
            ],
            "type": "histogram2d"
           }
          ],
          "histogram2dcontour": [
           {
            "colorbar": {
             "outlinewidth": 0,
             "ticks": ""
            },
            "colorscale": [
             [
              0,
              "#0d0887"
             ],
             [
              0.1111111111111111,
              "#46039f"
             ],
             [
              0.2222222222222222,
              "#7201a8"
             ],
             [
              0.3333333333333333,
              "#9c179e"
             ],
             [
              0.4444444444444444,
              "#bd3786"
             ],
             [
              0.5555555555555556,
              "#d8576b"
             ],
             [
              0.6666666666666666,
              "#ed7953"
             ],
             [
              0.7777777777777778,
              "#fb9f3a"
             ],
             [
              0.8888888888888888,
              "#fdca26"
             ],
             [
              1,
              "#f0f921"
             ]
            ],
            "type": "histogram2dcontour"
           }
          ],
          "mesh3d": [
           {
            "colorbar": {
             "outlinewidth": 0,
             "ticks": ""
            },
            "type": "mesh3d"
           }
          ],
          "parcoords": [
           {
            "line": {
             "colorbar": {
              "outlinewidth": 0,
              "ticks": ""
             }
            },
            "type": "parcoords"
           }
          ],
          "pie": [
           {
            "automargin": true,
            "type": "pie"
           }
          ],
          "scatter": [
           {
            "fillpattern": {
             "fillmode": "overlay",
             "size": 10,
             "solidity": 0.2
            },
            "type": "scatter"
           }
          ],
          "scatter3d": [
           {
            "line": {
             "colorbar": {
              "outlinewidth": 0,
              "ticks": ""
             }
            },
            "marker": {
             "colorbar": {
              "outlinewidth": 0,
              "ticks": ""
             }
            },
            "type": "scatter3d"
           }
          ],
          "scattercarpet": [
           {
            "marker": {
             "colorbar": {
              "outlinewidth": 0,
              "ticks": ""
             }
            },
            "type": "scattercarpet"
           }
          ],
          "scattergeo": [
           {
            "marker": {
             "colorbar": {
              "outlinewidth": 0,
              "ticks": ""
             }
            },
            "type": "scattergeo"
           }
          ],
          "scattergl": [
           {
            "marker": {
             "colorbar": {
              "outlinewidth": 0,
              "ticks": ""
             }
            },
            "type": "scattergl"
           }
          ],
          "scattermapbox": [
           {
            "marker": {
             "colorbar": {
              "outlinewidth": 0,
              "ticks": ""
             }
            },
            "type": "scattermapbox"
           }
          ],
          "scatterpolar": [
           {
            "marker": {
             "colorbar": {
              "outlinewidth": 0,
              "ticks": ""
             }
            },
            "type": "scatterpolar"
           }
          ],
          "scatterpolargl": [
           {
            "marker": {
             "colorbar": {
              "outlinewidth": 0,
              "ticks": ""
             }
            },
            "type": "scatterpolargl"
           }
          ],
          "scatterternary": [
           {
            "marker": {
             "colorbar": {
              "outlinewidth": 0,
              "ticks": ""
             }
            },
            "type": "scatterternary"
           }
          ],
          "surface": [
           {
            "colorbar": {
             "outlinewidth": 0,
             "ticks": ""
            },
            "colorscale": [
             [
              0,
              "#0d0887"
             ],
             [
              0.1111111111111111,
              "#46039f"
             ],
             [
              0.2222222222222222,
              "#7201a8"
             ],
             [
              0.3333333333333333,
              "#9c179e"
             ],
             [
              0.4444444444444444,
              "#bd3786"
             ],
             [
              0.5555555555555556,
              "#d8576b"
             ],
             [
              0.6666666666666666,
              "#ed7953"
             ],
             [
              0.7777777777777778,
              "#fb9f3a"
             ],
             [
              0.8888888888888888,
              "#fdca26"
             ],
             [
              1,
              "#f0f921"
             ]
            ],
            "type": "surface"
           }
          ],
          "table": [
           {
            "cells": {
             "fill": {
              "color": "#EBF0F8"
             },
             "line": {
              "color": "white"
             }
            },
            "header": {
             "fill": {
              "color": "#C8D4E3"
             },
             "line": {
              "color": "white"
             }
            },
            "type": "table"
           }
          ]
         },
         "layout": {
          "annotationdefaults": {
           "arrowcolor": "#2a3f5f",
           "arrowhead": 0,
           "arrowwidth": 1
          },
          "autotypenumbers": "strict",
          "coloraxis": {
           "colorbar": {
            "outlinewidth": 0,
            "ticks": ""
           }
          },
          "colorscale": {
           "diverging": [
            [
             0,
             "#8e0152"
            ],
            [
             0.1,
             "#c51b7d"
            ],
            [
             0.2,
             "#de77ae"
            ],
            [
             0.3,
             "#f1b6da"
            ],
            [
             0.4,
             "#fde0ef"
            ],
            [
             0.5,
             "#f7f7f7"
            ],
            [
             0.6,
             "#e6f5d0"
            ],
            [
             0.7,
             "#b8e186"
            ],
            [
             0.8,
             "#7fbc41"
            ],
            [
             0.9,
             "#4d9221"
            ],
            [
             1,
             "#276419"
            ]
           ],
           "sequential": [
            [
             0,
             "#0d0887"
            ],
            [
             0.1111111111111111,
             "#46039f"
            ],
            [
             0.2222222222222222,
             "#7201a8"
            ],
            [
             0.3333333333333333,
             "#9c179e"
            ],
            [
             0.4444444444444444,
             "#bd3786"
            ],
            [
             0.5555555555555556,
             "#d8576b"
            ],
            [
             0.6666666666666666,
             "#ed7953"
            ],
            [
             0.7777777777777778,
             "#fb9f3a"
            ],
            [
             0.8888888888888888,
             "#fdca26"
            ],
            [
             1,
             "#f0f921"
            ]
           ],
           "sequentialminus": [
            [
             0,
             "#0d0887"
            ],
            [
             0.1111111111111111,
             "#46039f"
            ],
            [
             0.2222222222222222,
             "#7201a8"
            ],
            [
             0.3333333333333333,
             "#9c179e"
            ],
            [
             0.4444444444444444,
             "#bd3786"
            ],
            [
             0.5555555555555556,
             "#d8576b"
            ],
            [
             0.6666666666666666,
             "#ed7953"
            ],
            [
             0.7777777777777778,
             "#fb9f3a"
            ],
            [
             0.8888888888888888,
             "#fdca26"
            ],
            [
             1,
             "#f0f921"
            ]
           ]
          },
          "colorway": [
           "#636efa",
           "#EF553B",
           "#00cc96",
           "#ab63fa",
           "#FFA15A",
           "#19d3f3",
           "#FF6692",
           "#B6E880",
           "#FF97FF",
           "#FECB52"
          ],
          "font": {
           "color": "#2a3f5f"
          },
          "geo": {
           "bgcolor": "white",
           "lakecolor": "white",
           "landcolor": "#E5ECF6",
           "showlakes": true,
           "showland": true,
           "subunitcolor": "white"
          },
          "hoverlabel": {
           "align": "left"
          },
          "hovermode": "closest",
          "mapbox": {
           "style": "light"
          },
          "paper_bgcolor": "white",
          "plot_bgcolor": "#E5ECF6",
          "polar": {
           "angularaxis": {
            "gridcolor": "white",
            "linecolor": "white",
            "ticks": ""
           },
           "bgcolor": "#E5ECF6",
           "radialaxis": {
            "gridcolor": "white",
            "linecolor": "white",
            "ticks": ""
           }
          },
          "scene": {
           "xaxis": {
            "backgroundcolor": "#E5ECF6",
            "gridcolor": "white",
            "gridwidth": 2,
            "linecolor": "white",
            "showbackground": true,
            "ticks": "",
            "zerolinecolor": "white"
           },
           "yaxis": {
            "backgroundcolor": "#E5ECF6",
            "gridcolor": "white",
            "gridwidth": 2,
            "linecolor": "white",
            "showbackground": true,
            "ticks": "",
            "zerolinecolor": "white"
           },
           "zaxis": {
            "backgroundcolor": "#E5ECF6",
            "gridcolor": "white",
            "gridwidth": 2,
            "linecolor": "white",
            "showbackground": true,
            "ticks": "",
            "zerolinecolor": "white"
           }
          },
          "shapedefaults": {
           "line": {
            "color": "#2a3f5f"
           }
          },
          "ternary": {
           "aaxis": {
            "gridcolor": "white",
            "linecolor": "white",
            "ticks": ""
           },
           "baxis": {
            "gridcolor": "white",
            "linecolor": "white",
            "ticks": ""
           },
           "bgcolor": "#E5ECF6",
           "caxis": {
            "gridcolor": "white",
            "linecolor": "white",
            "ticks": ""
           }
          },
          "title": {
           "x": 0.05
          },
          "xaxis": {
           "automargin": true,
           "gridcolor": "white",
           "linecolor": "white",
           "ticks": "",
           "title": {
            "standoff": 15
           },
           "zerolinecolor": "white",
           "zerolinewidth": 2
          },
          "yaxis": {
           "automargin": true,
           "gridcolor": "white",
           "linecolor": "white",
           "ticks": "",
           "title": {
            "standoff": 15
           },
           "zerolinecolor": "white",
           "zerolinewidth": 2
          }
         }
        },
        "xaxis": {
         "anchor": "y",
         "domain": [
          0,
          1
         ],
         "title": {
          "text": "Year"
         }
        },
        "yaxis": {
         "anchor": "x",
         "domain": [
          0,
          1
         ],
         "title": {
          "text": "value"
         }
        }
       }
      },
      "text/html": [
       "<div>                            <div id=\"2536aa77-edc0-4e19-8cb3-adce7b07c851\" class=\"plotly-graph-div\" style=\"height:525px; width:100%;\"></div>            <script type=\"text/javascript\">                require([\"plotly\"], function(Plotly) {                    window.PLOTLYENV=window.PLOTLYENV || {};                                    if (document.getElementById(\"2536aa77-edc0-4e19-8cb3-adce7b07c851\")) {                    Plotly.newPlot(                        \"2536aa77-edc0-4e19-8cb3-adce7b07c851\",                        [{\"hovertemplate\":\"variable=No_Smoothing<br>Year=%{x}<br>value=%{y}<extra></extra>\",\"legendgroup\":\"No_Smoothing\",\"line\":{\"color\":\"#636efa\",\"dash\":\"solid\"},\"marker\":{\"symbol\":\"circle\"},\"mode\":\"lines\",\"name\":\"No_Smoothing\",\"orientation\":\"v\",\"showlegend\":true,\"x\":[1880,1881,1882,1883,1884,1885,1886,1887,1888,1889,1890,1891,1892,1893,1894,1895,1896,1897,1898,1899,1900,1901,1902,1903,1904,1905,1906,1907,1908,1909,1910,1911,1912,1913,1914,1915,1916,1917,1918,1919,1920,1921,1922,1923,1924,1925,1926,1927,1928,1929,1930,1931,1932,1933,1934,1935,1936,1937,1938,1939,1940,1941,1942,1943,1944,1945,1946,1947,1948,1949,1950,1951,1952,1953,1954,1955,1956,1957,1958,1959,1960,1961,1962,1963,1964,1965,1966,1967,1968,1969,1970,1971,1972,1973,1974,1975,1976,1977,1978,1979,1980,1981,1982,1983,1984,1985,1986,1987,1988,1989,1990,1991,1992,1993,1994,1995,1996,1997,1998,1999,2000,2001,2002,2003,2004,2005,2006,2007,2008,2009,2010,2011,2012,2013,2014,2015,2016,2017,2018,2019,2020,2021],\"xaxis\":\"x\",\"y\":[-0.16,-0.08,-0.1,-0.17,-0.28,-0.33,-0.31,-0.36,-0.17,-0.1,-0.35,-0.22,-0.27,-0.31,-0.32,-0.23,-0.11,-0.11,-0.27,-0.18,-0.09,-0.16,-0.28,-0.37,-0.47,-0.26,-0.22,-0.39,-0.43,-0.48,-0.43,-0.44,-0.36,-0.34,-0.15,-0.14,-0.36,-0.46,-0.3,-0.28,-0.27,-0.19,-0.29,-0.27,-0.27,-0.22,-0.11,-0.22,-0.2,-0.36,-0.16,-0.09,-0.16,-0.29,-0.12,-0.2,-0.15,-0.03,0.0,-0.02,0.13,0.19,0.07,0.09,0.2,0.09,-0.07,-0.03,-0.11,-0.11,-0.17,-0.07,0.01,0.08,-0.13,-0.14,-0.19,0.05,0.06,0.03,-0.03,0.06,0.03,0.05,-0.2,-0.11,-0.06,-0.02,-0.08,0.05,0.03,-0.08,0.01,0.16,-0.07,-0.01,-0.1,0.18,0.07,0.16,0.26,0.32,0.14,0.31,0.16,0.12,0.18,0.32,0.39,0.27,0.45,0.41,0.22,0.23,0.32,0.45,0.33,0.46,0.61,0.38,0.39,0.54,0.63,0.62,0.53,0.68,0.64,0.66,0.54,0.65,0.72,0.61,0.65,0.68,0.75,0.9,1.02,0.92,0.85,0.98,1.02,0.85],\"yaxis\":\"y\",\"type\":\"scatter\"},{\"hovertemplate\":\"variable=Lowess<br>Year=%{x}<br>value=%{y}<extra></extra>\",\"legendgroup\":\"Lowess\",\"line\":{\"color\":\"#EF553B\",\"dash\":\"solid\"},\"marker\":{\"symbol\":\"circle\"},\"mode\":\"lines\",\"name\":\"Lowess\",\"orientation\":\"v\",\"showlegend\":true,\"x\":[1880,1881,1882,1883,1884,1885,1886,1887,1888,1889,1890,1891,1892,1893,1894,1895,1896,1897,1898,1899,1900,1901,1902,1903,1904,1905,1906,1907,1908,1909,1910,1911,1912,1913,1914,1915,1916,1917,1918,1919,1920,1921,1922,1923,1924,1925,1926,1927,1928,1929,1930,1931,1932,1933,1934,1935,1936,1937,1938,1939,1940,1941,1942,1943,1944,1945,1946,1947,1948,1949,1950,1951,1952,1953,1954,1955,1956,1957,1958,1959,1960,1961,1962,1963,1964,1965,1966,1967,1968,1969,1970,1971,1972,1973,1974,1975,1976,1977,1978,1979,1980,1981,1982,1983,1984,1985,1986,1987,1988,1989,1990,1991,1992,1993,1994,1995,1996,1997,1998,1999,2000,2001,2002,2003,2004,2005,2006,2007,2008,2009,2010,2011,2012,2013,2014,2015,2016,2017,2018,2019,2020,2021],\"xaxis\":\"x\",\"y\":[-0.09,-0.12,-0.16,-0.2,-0.23,-0.26,-0.27,-0.27,-0.26,-0.25,-0.25,-0.26,-0.27,-0.26,-0.24,-0.22,-0.21,-0.19,-0.17,-0.18,-0.2,-0.24,-0.26,-0.28,-0.31,-0.34,-0.36,-0.37,-0.39,-0.41,-0.41,-0.39,-0.35,-0.32,-0.31,-0.3,-0.3,-0.3,-0.3,-0.3,-0.28,-0.27,-0.26,-0.24,-0.23,-0.22,-0.22,-0.21,-0.2,-0.19,-0.19,-0.19,-0.18,-0.17,-0.16,-0.14,-0.11,-0.06,-0.01,0.03,0.06,0.09,0.11,0.1,0.07,0.04,0.0,-0.04,-0.07,-0.08,-0.08,-0.07,-0.07,-0.07,-0.06,-0.06,-0.05,-0.04,-0.01,0.01,0.03,0.01,-0.01,-0.03,-0.04,-0.05,-0.06,-0.05,-0.03,-0.02,-0.0,0.0,0.0,-0.0,0.01,0.02,0.04,0.07,0.12,0.16,0.2,0.21,0.22,0.21,0.21,0.22,0.24,0.27,0.31,0.33,0.33,0.33,0.33,0.33,0.34,0.37,0.4,0.42,0.44,0.47,0.5,0.52,0.55,0.58,0.61,0.62,0.62,0.63,0.64,0.64,0.65,0.66,0.7,0.74,0.79,0.83,0.88,0.91,0.92,0.93,0.94,0.94],\"yaxis\":\"y\",\"type\":\"scatter\"}],                        {\"template\":{\"data\":{\"histogram2dcontour\":[{\"type\":\"histogram2dcontour\",\"colorbar\":{\"outlinewidth\":0,\"ticks\":\"\"},\"colorscale\":[[0.0,\"#0d0887\"],[0.1111111111111111,\"#46039f\"],[0.2222222222222222,\"#7201a8\"],[0.3333333333333333,\"#9c179e\"],[0.4444444444444444,\"#bd3786\"],[0.5555555555555556,\"#d8576b\"],[0.6666666666666666,\"#ed7953\"],[0.7777777777777778,\"#fb9f3a\"],[0.8888888888888888,\"#fdca26\"],[1.0,\"#f0f921\"]]}],\"choropleth\":[{\"type\":\"choropleth\",\"colorbar\":{\"outlinewidth\":0,\"ticks\":\"\"}}],\"histogram2d\":[{\"type\":\"histogram2d\",\"colorbar\":{\"outlinewidth\":0,\"ticks\":\"\"},\"colorscale\":[[0.0,\"#0d0887\"],[0.1111111111111111,\"#46039f\"],[0.2222222222222222,\"#7201a8\"],[0.3333333333333333,\"#9c179e\"],[0.4444444444444444,\"#bd3786\"],[0.5555555555555556,\"#d8576b\"],[0.6666666666666666,\"#ed7953\"],[0.7777777777777778,\"#fb9f3a\"],[0.8888888888888888,\"#fdca26\"],[1.0,\"#f0f921\"]]}],\"heatmap\":[{\"type\":\"heatmap\",\"colorbar\":{\"outlinewidth\":0,\"ticks\":\"\"},\"colorscale\":[[0.0,\"#0d0887\"],[0.1111111111111111,\"#46039f\"],[0.2222222222222222,\"#7201a8\"],[0.3333333333333333,\"#9c179e\"],[0.4444444444444444,\"#bd3786\"],[0.5555555555555556,\"#d8576b\"],[0.6666666666666666,\"#ed7953\"],[0.7777777777777778,\"#fb9f3a\"],[0.8888888888888888,\"#fdca26\"],[1.0,\"#f0f921\"]]}],\"heatmapgl\":[{\"type\":\"heatmapgl\",\"colorbar\":{\"outlinewidth\":0,\"ticks\":\"\"},\"colorscale\":[[0.0,\"#0d0887\"],[0.1111111111111111,\"#46039f\"],[0.2222222222222222,\"#7201a8\"],[0.3333333333333333,\"#9c179e\"],[0.4444444444444444,\"#bd3786\"],[0.5555555555555556,\"#d8576b\"],[0.6666666666666666,\"#ed7953\"],[0.7777777777777778,\"#fb9f3a\"],[0.8888888888888888,\"#fdca26\"],[1.0,\"#f0f921\"]]}],\"contourcarpet\":[{\"type\":\"contourcarpet\",\"colorbar\":{\"outlinewidth\":0,\"ticks\":\"\"}}],\"contour\":[{\"type\":\"contour\",\"colorbar\":{\"outlinewidth\":0,\"ticks\":\"\"},\"colorscale\":[[0.0,\"#0d0887\"],[0.1111111111111111,\"#46039f\"],[0.2222222222222222,\"#7201a8\"],[0.3333333333333333,\"#9c179e\"],[0.4444444444444444,\"#bd3786\"],[0.5555555555555556,\"#d8576b\"],[0.6666666666666666,\"#ed7953\"],[0.7777777777777778,\"#fb9f3a\"],[0.8888888888888888,\"#fdca26\"],[1.0,\"#f0f921\"]]}],\"surface\":[{\"type\":\"surface\",\"colorbar\":{\"outlinewidth\":0,\"ticks\":\"\"},\"colorscale\":[[0.0,\"#0d0887\"],[0.1111111111111111,\"#46039f\"],[0.2222222222222222,\"#7201a8\"],[0.3333333333333333,\"#9c179e\"],[0.4444444444444444,\"#bd3786\"],[0.5555555555555556,\"#d8576b\"],[0.6666666666666666,\"#ed7953\"],[0.7777777777777778,\"#fb9f3a\"],[0.8888888888888888,\"#fdca26\"],[1.0,\"#f0f921\"]]}],\"mesh3d\":[{\"type\":\"mesh3d\",\"colorbar\":{\"outlinewidth\":0,\"ticks\":\"\"}}],\"scatter\":[{\"fillpattern\":{\"fillmode\":\"overlay\",\"size\":10,\"solidity\":0.2},\"type\":\"scatter\"}],\"parcoords\":[{\"type\":\"parcoords\",\"line\":{\"colorbar\":{\"outlinewidth\":0,\"ticks\":\"\"}}}],\"scatterpolargl\":[{\"type\":\"scatterpolargl\",\"marker\":{\"colorbar\":{\"outlinewidth\":0,\"ticks\":\"\"}}}],\"bar\":[{\"error_x\":{\"color\":\"#2a3f5f\"},\"error_y\":{\"color\":\"#2a3f5f\"},\"marker\":{\"line\":{\"color\":\"#E5ECF6\",\"width\":0.5},\"pattern\":{\"fillmode\":\"overlay\",\"size\":10,\"solidity\":0.2}},\"type\":\"bar\"}],\"scattergeo\":[{\"type\":\"scattergeo\",\"marker\":{\"colorbar\":{\"outlinewidth\":0,\"ticks\":\"\"}}}],\"scatterpolar\":[{\"type\":\"scatterpolar\",\"marker\":{\"colorbar\":{\"outlinewidth\":0,\"ticks\":\"\"}}}],\"histogram\":[{\"marker\":{\"pattern\":{\"fillmode\":\"overlay\",\"size\":10,\"solidity\":0.2}},\"type\":\"histogram\"}],\"scattergl\":[{\"type\":\"scattergl\",\"marker\":{\"colorbar\":{\"outlinewidth\":0,\"ticks\":\"\"}}}],\"scatter3d\":[{\"type\":\"scatter3d\",\"line\":{\"colorbar\":{\"outlinewidth\":0,\"ticks\":\"\"}},\"marker\":{\"colorbar\":{\"outlinewidth\":0,\"ticks\":\"\"}}}],\"scattermapbox\":[{\"type\":\"scattermapbox\",\"marker\":{\"colorbar\":{\"outlinewidth\":0,\"ticks\":\"\"}}}],\"scatterternary\":[{\"type\":\"scatterternary\",\"marker\":{\"colorbar\":{\"outlinewidth\":0,\"ticks\":\"\"}}}],\"scattercarpet\":[{\"type\":\"scattercarpet\",\"marker\":{\"colorbar\":{\"outlinewidth\":0,\"ticks\":\"\"}}}],\"carpet\":[{\"aaxis\":{\"endlinecolor\":\"#2a3f5f\",\"gridcolor\":\"white\",\"linecolor\":\"white\",\"minorgridcolor\":\"white\",\"startlinecolor\":\"#2a3f5f\"},\"baxis\":{\"endlinecolor\":\"#2a3f5f\",\"gridcolor\":\"white\",\"linecolor\":\"white\",\"minorgridcolor\":\"white\",\"startlinecolor\":\"#2a3f5f\"},\"type\":\"carpet\"}],\"table\":[{\"cells\":{\"fill\":{\"color\":\"#EBF0F8\"},\"line\":{\"color\":\"white\"}},\"header\":{\"fill\":{\"color\":\"#C8D4E3\"},\"line\":{\"color\":\"white\"}},\"type\":\"table\"}],\"barpolar\":[{\"marker\":{\"line\":{\"color\":\"#E5ECF6\",\"width\":0.5},\"pattern\":{\"fillmode\":\"overlay\",\"size\":10,\"solidity\":0.2}},\"type\":\"barpolar\"}],\"pie\":[{\"automargin\":true,\"type\":\"pie\"}]},\"layout\":{\"autotypenumbers\":\"strict\",\"colorway\":[\"#636efa\",\"#EF553B\",\"#00cc96\",\"#ab63fa\",\"#FFA15A\",\"#19d3f3\",\"#FF6692\",\"#B6E880\",\"#FF97FF\",\"#FECB52\"],\"font\":{\"color\":\"#2a3f5f\"},\"hovermode\":\"closest\",\"hoverlabel\":{\"align\":\"left\"},\"paper_bgcolor\":\"white\",\"plot_bgcolor\":\"#E5ECF6\",\"polar\":{\"bgcolor\":\"#E5ECF6\",\"angularaxis\":{\"gridcolor\":\"white\",\"linecolor\":\"white\",\"ticks\":\"\"},\"radialaxis\":{\"gridcolor\":\"white\",\"linecolor\":\"white\",\"ticks\":\"\"}},\"ternary\":{\"bgcolor\":\"#E5ECF6\",\"aaxis\":{\"gridcolor\":\"white\",\"linecolor\":\"white\",\"ticks\":\"\"},\"baxis\":{\"gridcolor\":\"white\",\"linecolor\":\"white\",\"ticks\":\"\"},\"caxis\":{\"gridcolor\":\"white\",\"linecolor\":\"white\",\"ticks\":\"\"}},\"coloraxis\":{\"colorbar\":{\"outlinewidth\":0,\"ticks\":\"\"}},\"colorscale\":{\"sequential\":[[0.0,\"#0d0887\"],[0.1111111111111111,\"#46039f\"],[0.2222222222222222,\"#7201a8\"],[0.3333333333333333,\"#9c179e\"],[0.4444444444444444,\"#bd3786\"],[0.5555555555555556,\"#d8576b\"],[0.6666666666666666,\"#ed7953\"],[0.7777777777777778,\"#fb9f3a\"],[0.8888888888888888,\"#fdca26\"],[1.0,\"#f0f921\"]],\"sequentialminus\":[[0.0,\"#0d0887\"],[0.1111111111111111,\"#46039f\"],[0.2222222222222222,\"#7201a8\"],[0.3333333333333333,\"#9c179e\"],[0.4444444444444444,\"#bd3786\"],[0.5555555555555556,\"#d8576b\"],[0.6666666666666666,\"#ed7953\"],[0.7777777777777778,\"#fb9f3a\"],[0.8888888888888888,\"#fdca26\"],[1.0,\"#f0f921\"]],\"diverging\":[[0,\"#8e0152\"],[0.1,\"#c51b7d\"],[0.2,\"#de77ae\"],[0.3,\"#f1b6da\"],[0.4,\"#fde0ef\"],[0.5,\"#f7f7f7\"],[0.6,\"#e6f5d0\"],[0.7,\"#b8e186\"],[0.8,\"#7fbc41\"],[0.9,\"#4d9221\"],[1,\"#276419\"]]},\"xaxis\":{\"gridcolor\":\"white\",\"linecolor\":\"white\",\"ticks\":\"\",\"title\":{\"standoff\":15},\"zerolinecolor\":\"white\",\"automargin\":true,\"zerolinewidth\":2},\"yaxis\":{\"gridcolor\":\"white\",\"linecolor\":\"white\",\"ticks\":\"\",\"title\":{\"standoff\":15},\"zerolinecolor\":\"white\",\"automargin\":true,\"zerolinewidth\":2},\"scene\":{\"xaxis\":{\"backgroundcolor\":\"#E5ECF6\",\"gridcolor\":\"white\",\"linecolor\":\"white\",\"showbackground\":true,\"ticks\":\"\",\"zerolinecolor\":\"white\",\"gridwidth\":2},\"yaxis\":{\"backgroundcolor\":\"#E5ECF6\",\"gridcolor\":\"white\",\"linecolor\":\"white\",\"showbackground\":true,\"ticks\":\"\",\"zerolinecolor\":\"white\",\"gridwidth\":2},\"zaxis\":{\"backgroundcolor\":\"#E5ECF6\",\"gridcolor\":\"white\",\"linecolor\":\"white\",\"showbackground\":true,\"ticks\":\"\",\"zerolinecolor\":\"white\",\"gridwidth\":2}},\"shapedefaults\":{\"line\":{\"color\":\"#2a3f5f\"}},\"annotationdefaults\":{\"arrowcolor\":\"#2a3f5f\",\"arrowhead\":0,\"arrowwidth\":1},\"geo\":{\"bgcolor\":\"white\",\"landcolor\":\"#E5ECF6\",\"subunitcolor\":\"white\",\"showland\":true,\"showlakes\":true,\"lakecolor\":\"white\"},\"title\":{\"x\":0.05},\"mapbox\":{\"style\":\"light\"}}},\"xaxis\":{\"anchor\":\"y\",\"domain\":[0.0,1.0],\"title\":{\"text\":\"Year\"}},\"yaxis\":{\"anchor\":\"x\",\"domain\":[0.0,1.0],\"title\":{\"text\":\"value\"}},\"legend\":{\"title\":{\"text\":\"variable\"},\"tracegroupgap\":0},\"margin\":{\"t\":60}},                        {\"responsive\": true}                    ).then(function(){\n",
       "                            \n",
       "var gd = document.getElementById('2536aa77-edc0-4e19-8cb3-adce7b07c851');\n",
       "var x = new MutationObserver(function (mutations, observer) {{\n",
       "        var display = window.getComputedStyle(gd).display;\n",
       "        if (!display || display === 'none') {{\n",
       "            console.log([gd, 'removed!']);\n",
       "            Plotly.purge(gd);\n",
       "            observer.disconnect();\n",
       "        }}\n",
       "}});\n",
       "\n",
       "// Listen for the removal of the full notebook cells\n",
       "var notebookContainer = gd.closest('#notebook-container');\n",
       "if (notebookContainer) {{\n",
       "    x.observe(notebookContainer, {childList: true});\n",
       "}}\n",
       "\n",
       "// Listen for the clearing of the current output cell\n",
       "var outputEl = gd.closest('.output');\n",
       "if (outputEl) {{\n",
       "    x.observe(outputEl, {childList: true});\n",
       "}}\n",
       "\n",
       "                        })                };                });            </script>        </div>"
      ]
     },
     "metadata": {},
     "output_type": "display_data"
    },
    {
     "data": {
      "text/plain": [
       "<Figure size 1080x576 with 0 Axes>"
      ]
     },
     "metadata": {},
     "output_type": "display_data"
    }
   ],
   "source": [
    "plt.figure(figsize=(15,8))\n",
    "fig = px.line(df,x=\"Year\",y=[\"No_Smoothing\",\"Lowess\"])\n",
    "fig.show()"
   ]
  },
  {
   "cell_type": "code",
   "execution_count": 54,
   "id": "f86efd7f",
   "metadata": {
    "ExecuteTime": {
     "end_time": "2022-05-15T17:56:59.413211Z",
     "start_time": "2022-05-15T17:56:59.399242Z"
    }
   },
   "outputs": [],
   "source": [
    "def T(year):\n",
    "    if(year == 1850):\n",
    "        return -0.5\n",
    "    else:\n",
    "        temp_previous_year = T(year-1)\n",
    "        c = 51 \n",
    "        S = 1368\n",
    "        alpha = 0.3\n",
    "        B = 1.3\n",
    "        n = year - 1850\n",
    "        k = (1+(n/220)**3)\n",
    "        k_ch4 = (203.124 -0.316*n + 0.00018*(n**2))/203.124\n",
    "        result = ((S*(1-alpha)/4)/c + B*(-0.5-temp_previous_year) + \n",
    "                  5*np.log(k/280)) + temp_previous_year\n",
    "        return result"
   ]
  },
  {
   "cell_type": "code",
   "execution_count": 55,
   "id": "2577378c",
   "metadata": {
    "ExecuteTime": {
     "end_time": "2022-05-15T17:56:59.536930Z",
     "start_time": "2022-05-15T17:56:59.416203Z"
    }
   },
   "outputs": [],
   "source": [
    "def scale_T(year):\n",
    "    k = T(year)\n",
    "    return k + 18"
   ]
  },
  {
   "cell_type": "code",
   "execution_count": 56,
   "id": "cc5a5513",
   "metadata": {
    "ExecuteTime": {
     "end_time": "2022-05-15T17:56:59.724224Z",
     "start_time": "2022-05-15T17:56:59.541916Z"
    }
   },
   "outputs": [],
   "source": [
    "predict_temp = []\n",
    "year = list(range(1880,2022))\n",
    "for i in year:\n",
    "    predict_temp.append(scale_T(i))\n",
    "predict_temp = np.array(predict_temp)"
   ]
  },
  {
   "cell_type": "code",
   "execution_count": 57,
   "id": "a2fa3e95",
   "metadata": {
    "ExecuteTime": {
     "end_time": "2022-05-15T17:57:00.221926Z",
     "start_time": "2022-05-15T17:56:59.727217Z"
    },
    "scrolled": false
   },
   "outputs": [
    {
     "data": {
      "text/plain": [
       "[<matplotlib.lines.Line2D at 0x2ac08b2f3d0>]"
      ]
     },
     "execution_count": 57,
     "metadata": {},
     "output_type": "execute_result"
    },
    {
     "data": {
      "image/png": "[encoded data removed]",
      "text/plain": [
       "<Figure size 1080x576 with 1 Axes>"
      ]
     },
     "metadata": {},
     "output_type": "display_data"
    }
   ],
   "source": [
    "plt.figure(figsize=(15,8))\n",
    "plt.plot(year,predict_temp, c='r')\n",
    "plt.plot(df.Year, df.No_Smoothing,c='b')"
   ]
  },
  {
   "cell_type": "markdown",
   "id": "9dc2773f",
   "metadata": {},
   "source": [
    "Dự đoán vào năm 2030:"
   ]
  },
  {
   "cell_type": "code",
   "execution_count": 58,
   "id": "2d123e4d",
   "metadata": {
    "ExecuteTime": {
     "end_time": "2022-05-15T17:57:00.237879Z",
     "start_time": "2022-05-15T17:57:00.224914Z"
    }
   },
   "outputs": [
    {
     "data": {
      "text/plain": [
       "1.1237251947816702"
      ]
     },
     "execution_count": 58,
     "metadata": {},
     "output_type": "execute_result"
    }
   ],
   "source": [
    "scale_T(2030)"
   ]
  },
  {
   "cell_type": "code",
   "execution_count": 59,
   "id": "8a29b61e",
   "metadata": {
    "ExecuteTime": {
     "end_time": "2022-05-15T17:57:00.438144Z",
     "start_time": "2022-05-15T17:57:00.239854Z"
    }
   },
   "outputs": [
    {
     "data": {
      "text/plain": [
       "0.04094330580134907"
      ]
     },
     "execution_count": 59,
     "metadata": {},
     "output_type": "execute_result"
    }
   ],
   "source": [
    "MSE = np.square(np.subtract(df.No_Smoothing, predict_temp)).mean()\n",
    "MSE"
   ]
  },
  {
   "cell_type": "markdown",
   "id": "da0807d5",
   "metadata": {},
   "source": [
    "## 2. Improve climate model:"
   ]
  },
  {
   "cell_type": "markdown",
   "id": "0f6a2565",
   "metadata": {},
   "source": [
    "Ở đây em sẽ sử dụng hàm khí thải CH4."
   ]
  },
  {
   "cell_type": "code",
   "execution_count": 60,
   "id": "0c73f499",
   "metadata": {
    "ExecuteTime": {
     "end_time": "2022-05-15T17:57:00.547305Z",
     "start_time": "2022-05-15T17:57:00.442258Z"
    }
   },
   "outputs": [],
   "source": [
    "df_ch4 = pd.read_csv(\"ch4.csv\")\n",
    "df_ch4 = df_ch4[0:50]"
   ]
  },
  {
   "cell_type": "markdown",
   "id": "e62456ad",
   "metadata": {},
   "source": [
    "Để tìm giá trị CH4 Concenation em sẽ sử dụng dataset \"CH4 pulse\" trên trang web [carbonator.org]. Sau đó áp dụng mô hình **Polynomial Regression** để tìm mối liên hệ từ đó sẽ tìm được giá trị mà ứng với mỗi t năm CH4 sẽ tăng bao nhiêu lần."
   ]
  },
  {
   "cell_type": "code",
   "execution_count": 82,
   "id": "073982a1",
   "metadata": {
    "ExecuteTime": {
     "end_time": "2022-05-15T17:57:00.915882Z",
     "start_time": "2022-05-15T17:57:00.548978Z"
    }
   },
   "outputs": [
    {
     "data": {
      "text/plain": [
       "Text(0, 0.5, 'Each dt year')"
      ]
     },
     "execution_count": 82,
     "metadata": {},
     "output_type": "execute_result"
    },
    {
     "data": {
      "image/png": "[encoded data removed]",
      "text/plain": [
       "<Figure size 432x288 with 1 Axes>"
      ]
     },
     "metadata": {},
     "output_type": "display_data"
    }
   ],
   "source": [
    "X = df_ch4[[\"CH4 Concentration\"]]\n",
    "y = df_ch4[\"dataset\"]\n",
    "# Produce a scatter graph of Humidity against Pressure\n",
    "plt.scatter(X, y, c = \"black\")\n",
    "plt.xlabel(\"CH4 Concentration\")\n",
    "plt.ylabel(\"Each dt year\")"
   ]
  },
  {
   "cell_type": "markdown",
   "id": "ee9c2b72",
   "metadata": {},
   "source": [
    "Áp dụng mô hình **Polynomial Regression** với bậc 3"
   ]
  },
  {
   "cell_type": "code",
   "execution_count": 83,
   "id": "67418171",
   "metadata": {
    "ExecuteTime": {
     "end_time": "2022-05-15T17:57:00.931031Z",
     "start_time": "2022-05-15T17:57:00.917846Z"
    }
   },
   "outputs": [],
   "source": [
    "pre_process = PolynomialFeatures(degree=3)\n",
    "\n",
    "X_poly = pre_process.fit_transform(X)"
   ]
  },
  {
   "cell_type": "code",
   "execution_count": 84,
   "id": "e6cc5609",
   "metadata": {
    "ExecuteTime": {
     "end_time": "2022-05-15T17:57:01.259042Z",
     "start_time": "2022-05-15T17:57:00.933013Z"
    }
   },
   "outputs": [
    {
     "data": {
      "text/plain": [
       "[<matplotlib.lines.Line2D at 0x2ac095b5340>]"
      ]
     },
     "execution_count": 84,
     "metadata": {},
     "output_type": "execute_result"
    },
    {
     "data": {
      "image/png": "[encoded data removed]",
      "text/plain": [
       "<Figure size 432x288 with 1 Axes>"
      ]
     },
     "metadata": {},
     "output_type": "display_data"
    }
   ],
   "source": [
    "pr_model = LinearRegression(fit_intercept=False)\n",
    "\n",
    "pr_model.fit(X_poly, y)\n",
    "\n",
    "y_pred = pr_model.predict(X_poly)\n",
    "\n",
    "plt.scatter(X, y, c = \"black\")\n",
    "plt.xlabel(\"CH4 Concentration\")\n",
    "plt.ylabel(\"Each dt year\")\n",
    "plt.plot(X, y_pred)"
   ]
  },
  {
   "cell_type": "code",
   "execution_count": 85,
   "id": "a85322c4",
   "metadata": {
    "ExecuteTime": {
     "end_time": "2022-05-15T17:57:01.273926Z",
     "start_time": "2022-05-15T17:57:01.260961Z"
    }
   },
   "outputs": [
    {
     "data": {
      "text/plain": [
       "(203.12403052275823, -0.31649696636197305, 0.0001802232441686802)"
      ]
     },
     "execution_count": 85,
     "metadata": {},
     "output_type": "execute_result"
    }
   ],
   "source": [
    "theta0, theta1, theta2, theta3 = pr_model.coef_\n",
    "np.set_printoptions(suppress=True)\n",
    "theta0, theta1, theta2"
   ]
  },
  {
   "cell_type": "code",
   "execution_count": 86,
   "id": "73a04efc",
   "metadata": {
    "ExecuteTime": {
     "end_time": "2022-05-15T17:57:01.399118Z",
     "start_time": "2022-05-15T17:57:01.275921Z"
    }
   },
   "outputs": [],
   "source": [
    "def T_optimize(year):\n",
    "    if(year == 1850):\n",
    "        return -0.5\n",
    "    else:\n",
    "        temp_previous_year = T(year-1)\n",
    "        c = 51 \n",
    "        S = 1368\n",
    "        alpha = 0.3\n",
    "        B = 1.3\n",
    "        n = year - 1850\n",
    "        k = (1+(n/220)**3)\n",
    "        k_ch4 = (203.124 -0.316*n + 0.00018*(n**2))/203.124\n",
    "        result = ((S*(1-alpha)/4)/c + B*(-0.5-temp_previous_year) + \n",
    "                  5*np.log(k/280)) + 0.66*np.log(k_ch4/0.715) + temp_previous_year\n",
    "        return result"
   ]
  },
  {
   "cell_type": "code",
   "execution_count": 87,
   "id": "5ecba611",
   "metadata": {
    "ExecuteTime": {
     "end_time": "2022-05-15T17:57:01.491923Z",
     "start_time": "2022-05-15T17:57:01.402107Z"
    }
   },
   "outputs": [],
   "source": [
    "def scale_T_optimize(year):\n",
    "    k = T_optimize(year)\n",
    "    return k + 18"
   ]
  },
  {
   "cell_type": "code",
   "execution_count": 88,
   "id": "160e4e5f",
   "metadata": {
    "ExecuteTime": {
     "end_time": "2022-05-15T17:57:01.647911Z",
     "start_time": "2022-05-15T17:57:01.493860Z"
    }
   },
   "outputs": [],
   "source": [
    "predict_optimize = []\n",
    "year = list(range(1880, 2022))\n",
    "for i in year:\n",
    "    predict_optimize.append(scale_T_optimize(i))\n",
    "predict_optimize = np.array(predict_optimize)"
   ]
  },
  {
   "cell_type": "code",
   "execution_count": 89,
   "id": "3d605773",
   "metadata": {
    "ExecuteTime": {
     "end_time": "2022-05-15T17:57:01.974697Z",
     "start_time": "2022-05-15T17:57:01.651501Z"
    }
   },
   "outputs": [
    {
     "data": {
      "text/plain": [
       "[<matplotlib.lines.Line2D at 0x2ac0a32b8b0>]"
      ]
     },
     "execution_count": 89,
     "metadata": {},
     "output_type": "execute_result"
    },
    {
     "data": {
      "image/png": "[encoded data removed]",
      "text/plain": [
       "<Figure size 1080x576 with 1 Axes>"
      ]
     },
     "metadata": {},
     "output_type": "display_data"
    }
   ],
   "source": [
    "plt.figure(figsize=(15,8))\n",
    "plt.plot(year,predict_optimize, c='r')\n",
    "plt.plot(df.Year, df.No_Smoothing,c='b')"
   ]
  },
  {
   "cell_type": "code",
   "execution_count": 90,
   "id": "7026f780",
   "metadata": {
    "ExecuteTime": {
     "end_time": "2022-05-15T17:57:01.990325Z",
     "start_time": "2022-05-15T17:57:01.977690Z"
    }
   },
   "outputs": [
    {
     "data": {
      "text/plain": [
       "0.017961619722804915"
      ]
     },
     "execution_count": 90,
     "metadata": {},
     "output_type": "execute_result"
    }
   ],
   "source": [
    "MSE_optimized = mean_squared_error(predict_optimize,df.No_Smoothing)\n",
    "MSE_optimized"
   ]
  },
  {
   "cell_type": "code",
   "execution_count": 91,
   "id": "caa5bc9c",
   "metadata": {},
   "outputs": [
    {
     "data": {
      "text/plain": [
       "1.1541092862211926"
      ]
     },
     "execution_count": 91,
     "metadata": {},
     "output_type": "execute_result"
    }
   ],
   "source": [
    "# Du doan vao nam 2030\n",
    "scale_T_optimize(2030)"
   ]
  },
  {
   "cell_type": "markdown",
   "id": "8160699a",
   "metadata": {
    "ExecuteTime": {
     "end_time": "2022-05-15T17:46:17.739380Z",
     "start_time": "2022-05-15T17:46:17.728860Z"
    }
   },
   "source": [
    "## 3. Nhận xét và đánh giá:"
   ]
  },
  {
   "cell_type": "markdown",
   "id": "bb333989",
   "metadata": {},
   "source": [
    "- Nhóm đã xây dựng thành công mô hình thời tiết cơ bản và cải thiện mô hình bằng khí thải CH4.\n",
    "- Ta thấy MSE giữa Mô hình cải tiến với khí CH4 < MSE Mô hình thời tiết cơ bản cho thấy việc optimize bằng cách thêm phương trình vi phân khí CH4 thải ra là có hiệu quả\n",
    "\n",
    "- Mô hình đã được cải tiến thành công với MSE nhỏ hơn.\n",
    "\n",
    "- Nhiệt độ Trái Đất vào năm 2030 là **1.154103 (độ C)**"
   ]
  },
  {
   "cell_type": "markdown",
   "id": "8a54f339",
   "metadata": {},
   "source": [
    "## Phương trình nhiệt độ Trái Đất\n",
    "$$y_{n+1} - y_n =  \\dfrac{S\\times (1-alpha)}{4\\times c} + B \\times (1-y_n) + 5 \\times \\log \\dfrac{k}{280} + 0.66 \\times \\log \\dfrac{k_{ch4}}{0.715}$$\n",
    "\n",
    "$y_{n}$:   Temperature in n_th (from 1850)\n",
    "\n",
    "$alpha$:   Alberto or plentary reflectivity (0.3)\n",
    "\n",
    "$c$: atmosphere and upper-ocean heat capacity ($51J/m_{2}/C$)\n",
    "\n",
    "$B = 1.3W/$$m^{2}$$/C$\n",
    "\n",
    "$k = $$1+(\\frac{n}{220})^3$:   forcing coefficient\n",
    "\n",
    "$k_{ch4} = \\dfrac{(203.124 - 0.316 \\times n + 0.00018 \\times n^2)}{203.124}$:    CH4 Concentration"
   ]
  },
  {
   "cell_type": "markdown",
   "id": "4a00b725",
   "metadata": {},
   "source": [
    "## 4. Tài liệu tham khảo:"
   ]
  },
  {
   "cell_type": "markdown",
   "id": "0fbf4b1c",
   "metadata": {
    "ExecuteTime": {
     "end_time": "2022-05-15T18:02:28.739303Z",
     "start_time": "2022-05-15T18:02:28.727284Z"
    }
   },
   "source": [
    "- Bài giảng của thầy Nguyễn Ngọc Đức.\n",
    "- Dataset tại trang web Carbonator.org với Scenario là **CH4 Pulse**\n",
    "- Tìm hiểu về CH4 tại bài báo khoa học: [CH4 Emission](https://iopscience.iop.org/article/10.1088/1748-9326/4/4/044007/pdf)"
   ]
  },
  {
   "cell_type": "markdown",
   "id": "3129a004",
   "metadata": {
    "ExecuteTime": {
     "end_time": "2022-05-15T17:58:46.027884Z",
     "start_time": "2022-05-15T17:58:46.018917Z"
    }
   },
   "source": [
    "                                                --- HẾT ---"
   ]
  }
 ],
 "metadata": {
  "kernelspec": {
   "display_name": "Python 3 (ipykernel)",
   "language": "python",
   "name": "python3"
  },
  "language_info": {
   "codemirror_mode": {
    "name": "ipython",
    "version": 3
   },
   "file_extension": ".py",
   "mimetype": "text/x-python",
   "name": "python",
   "nbconvert_exporter": "python",
   "pygments_lexer": "ipython3",
   "version": "3.8.8"
  }
 },
 "nbformat": 4,
 "nbformat_minor": 5
}
